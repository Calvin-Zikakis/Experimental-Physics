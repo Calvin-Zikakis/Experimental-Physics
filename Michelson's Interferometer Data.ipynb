{
 "cells": [
  {
   "cell_type": "code",
   "execution_count": 1,
   "metadata": {
    "collapsed": true
   },
   "outputs": [],
   "source": [
    "import numpy as np\n",
    "import matplotlib.pyplot as plt\n",
    "%matplotlib inline"
   ]
  },
  {
   "cell_type": "code",
   "execution_count": 8,
   "metadata": {
    "collapsed": false
   },
   "outputs": [
    {
     "name": "stdout",
     "output_type": "stream",
     "text": [
      "7420.0 Angstroms\n",
      "0.316227766017  microns = the total distance measurement error\n",
      "7420.0  +/-  744.690539755  Angstroms\n"
     ]
    }
   ],
   "source": [
    "# Part 1\n",
    "\n",
    "distance_micron = np.array([36.5,37.0,36.5,35.9,37.6,37.0,37.0,37.0,38.0,38.5])\n",
    "#Enter my measurements into an array for easy calculation\n",
    "\n",
    "average_micron = np.average(distance_micron)\n",
    "#take the average of the distances measured\n",
    "\n",
    "lamdas_microns = 2.0 * average_micron / 100.0\n",
    "#convert the distances measured into wavelengths using formula 5 on the lab sheet\n",
    "\n",
    "lamda_Scaled = 10000 * lamdas_microns \n",
    "#convert the micron measurement to angstroms \n",
    "\n",
    "print lamda_Scaled, \"Angstroms\"\n",
    "#known value = 6328 angstroms\n",
    "\n",
    "\n",
    "\n",
    "# Error Part 1 \n",
    "\n",
    "distance_error = np.array([1.0, 1.0, 1.0, 1.0, 1.0, 1.0, 1.0, 1.0, 1.0, 1.0])\n",
    "#The error of each of our measurements was +- 1 micron\n",
    "\n",
    "error_summed = np.sum(distance_error)\n",
    "#square and sum each individual error (1^2 = 1 so I skipped the squaring)\n",
    "\n",
    "total_distance_error = (np.sqrt(error_summed)/len(distance_error))\n",
    "# The forumla for the error is square root of the sum\n",
    "# of the absolute errors squared, divided by N. N = 10 here.\n",
    "\n",
    "print total_distance_error, \" microns = the total distance measurement error\"\n",
    "# now we have the error in the distances averaged, time to get the error in the wavelength\n",
    "# the formula for lambda is 2 * distance / the number of counts\n",
    "# inorder to determine lambda's error we need to do some calculations\n",
    "\n",
    "distance_errorx2 = total_distance_error * 2\n",
    "#first we double the error of the total distance as it is doubled in the formula\n",
    "\n",
    "# Next we understand that counting error is the squareroot of the number of counts, 100.\n",
    "\n",
    "# with those tools we can use error propagation to find the error of lambda in microns\n",
    "error_total_lambda = lamdas_microns * np.sqrt(((distance_errorx2/(2 * average_micron))**2) + ((10.0/100.0)**2))\n",
    "# This formula above basicly uses RMS error techniques to find the total error in the equation\n",
    "\n",
    "error_total_lambda_Angstroms = error_total_lambda * 10000\n",
    "#next we scale from microns to angstroms \n",
    "\n",
    "print lamda_Scaled, \" +/- \", error_total_lambda_Angstroms, \" Angstroms\"\n",
    "#finally we can print our final value out\n",
    "\n",
    "\n"
   ]
  },
  {
   "cell_type": "code",
   "execution_count": 9,
   "metadata": {
    "collapsed": false
   },
   "outputs": [
    {
     "name": "stdout",
     "output_type": "stream",
     "text": [
      "61.5425525407\n",
      "61.5425525407  +/-  0.869677089199 Angstroms\n"
     ]
    }
   ],
   "source": [
    "#Part 2 data analysis\n",
    "distance_i = np.array([10.9, 10.9, 10.9, 10.9, 10.9, 10.9])\n",
    "distnace_f = np.array([39.1, 39, 39, 39, 40, 38.7])\n",
    "# create arrays of initial distance and final distances in microns\n",
    "\n",
    "delta_distance = distnace_f - distance_i\n",
    "#find the change in distance in microns\n",
    "\n",
    "laser_lambda_avg = ((5889.9 + 5898.9)/2.0) * 0.0001\n",
    "# calculate the average wavelength of the laser in microns\n",
    "\n",
    "lambda_delta = (laser_lambda_avg ** 2) / (2 * delta_distance)\n",
    "# This calculates delta lambda in microns\n",
    "\n",
    "lambda_final = lambda_delta * 10**4\n",
    "#Calculate the final values for lambda in Angstroms\n",
    "\n",
    "print np.average(lambda_final)\n",
    "#print the mean of the lambdas\n",
    "\n",
    "# part 2 error\n",
    "# This is just standard deviation of the mean\n",
    "\n",
    "mean = np.average(lambda_final)\n",
    "#take the mean of the lambda numbers\n",
    "\n",
    "lambda_final_calculated = (lambda_final - mean) ** 2\n",
    "# subtract the mean from the numbers and square\n",
    "\n",
    "mean2 = np.average(lambda_final_calculated)\n",
    "# take the mean of these new variables\n",
    "\n",
    "final_error = np.sqrt(mean2)\n",
    "# squareroot the new mean for the final error\n",
    "\n",
    "print mean, \" +/- \", final_error, \"Angstroms\""
   ]
  },
  {
   "cell_type": "code",
   "execution_count": 13,
   "metadata": {
    "collapsed": false
   },
   "outputs": [
    {
     "name": "stdout",
     "output_type": "stream",
     "text": [
      "[-3.6 -4.1 -3.6 -3.9 -3.9 -3.9 -3.9 -4.1]\n",
      "-0.00103385416667\n",
      "-0.00103385416667  +/-  4.8688863909e-05\n"
     ]
    }
   ],
   "source": [
    "# part 3\n",
    "\n",
    "Pressure_measured = np.array([21.0, 20.5, 21.0, 20.7, 20.7, 20.7, 20.7, 20.5])\n",
    "Pressure_difference = Pressure_measured - 24.6\n",
    "print Pressure_difference\n",
    "#compute the difference from the room pressure and the measured pressure/\n",
    "\n",
    "fringes = np.array([15.0, 15.0, 15.0, 15.0, 15.0, 15.0, 15.0, 15.0])\n",
    "L = np.array([3.0, 3.0, 3.0, 3.0, 3.0, 3.0, 3.0, 3.0])\n",
    "Cm_converstion = 6.5 * 10.0**(-5)\n",
    "#just defining some arrays here of data we took\n",
    "\n",
    "n_air = 1 + ((fringes * Cm_converstion)/(2 * L * Pressure_difference)) * 24.6\n",
    "# This does the calculation for the index of air\n",
    "\n",
    "delta_n_air = n_air - 1\n",
    "#subtract 1 to find delta air\n",
    "\n",
    "delta_average = np.average(delta_n_air)\n",
    "# Take the average of the delta index numbers\n",
    "\n",
    "print delta_average\n",
    "\n",
    "# part 3 error\n",
    "#This is just standard deviation of the mean\n",
    "\n",
    "mean_n = np.average(delta_n_air)\n",
    "#take the mean of all the n air numbers\n",
    "\n",
    "n_final_calculated = (delta_n_air - mean_n) ** 2\n",
    "# subtract the mean from the numbers and square\n",
    "\n",
    "mean_n2 = np.average(n_final_calculated)\n",
    "# take the mean of these new variables\n",
    "\n",
    "final_error_n = np.sqrt(mean_n2)\n",
    "# squareroot the new mean for the final error\n",
    "\n",
    "print mean_n, \" +/- \", final_error_n, "
   ]
  },
  {
   "cell_type": "code",
   "execution_count": null,
   "metadata": {
    "collapsed": true
   },
   "outputs": [],
   "source": []
  }
 ],
 "metadata": {
  "kernelspec": {
   "display_name": "Python 2",
   "language": "python",
   "name": "python2"
  },
  "language_info": {
   "codemirror_mode": {
    "name": "ipython",
    "version": 2
   },
   "file_extension": ".py",
   "mimetype": "text/x-python",
   "name": "python",
   "nbconvert_exporter": "python",
   "pygments_lexer": "ipython2",
   "version": "2.7.13"
  }
 },
 "nbformat": 4,
 "nbformat_minor": 2
}
